{
 "cells": [
  {
   "cell_type": "markdown",
   "metadata": {},
   "source": [
    "# Statistics \n",
    "Statistic is a number that summarizes the data collected from sample. \n",
    "There are number of ways to do that:\n",
    "1. average\n",
    "2. percentage \n",
    "3. percentile etc "
   ]
  },
  {
   "cell_type": "markdown",
   "metadata": {},
   "source": [
    "### Rate :\n",
    "A rate is a ratio that reflects some quantity per certain unit.\n",
    "\n",
    "The lower the response rate, the less credible the results and more the results will favour the opinion of those who responded.(and respondents tend to have stonger opinions about the issue they choose to respond to.)"
   ]
  },
  {
   "cell_type": "markdown",
   "metadata": {},
   "source": [
    "### Population :\n",
    "The group of individual that you wish to study in order to answer your research question"
   ]
  },
  {
   "cell_type": "markdown",
   "metadata": {},
   "source": [
    "### Sample :\n",
    "If you select small number of individuals from the population to study those individuals and use that information to draw conclusions about the whole population, then it will be called as sample. "
   ]
  },
  {
   "cell_type": "markdown",
   "metadata": {},
   "source": [
    "### Bias :\n",
    "Bias is favourism that is present in the data collection process, resulting in lopsided, misleading results. \n",
    "Bias can occure in any number of ways.\n",
    "e.g.\n",
    "1. In the way the sample is selected \n",
    "2. In the way the data is collected (Specially type of questions that were asked)\n"
   ]
  },
  {
   "cell_type": "markdown",
   "metadata": {},
   "source": [
    "## Types of data :\n",
    "\n",
    "\n",
    "#### 1.  Numerical Data / Quantitative Data / Measurement Data :\n",
    "It is data that have meaning as a measurement. e.g. person's height, weight,IQ, number of stocks that person owns etc.\n",
    "\n",
    "#### 2. Categorical data / Qualitative Data :\n",
    "repesents characteristics such as person's gender, opinion, race etc.\n"
   ]
  },
  {
   "cell_type": "markdown",
   "metadata": {},
   "source": [
    "### Dataset :\n",
    "A dataset is the collection of all data taken from your sample. "
   ]
  },
  {
   "cell_type": "code",
   "execution_count": 1,
   "metadata": {},
   "outputs": [
    {
     "data": {
      "text/html": [
       "<div>\n",
       "<style scoped>\n",
       "    .dataframe tbody tr th:only-of-type {\n",
       "        vertical-align: middle;\n",
       "    }\n",
       "\n",
       "    .dataframe tbody tr th {\n",
       "        vertical-align: top;\n",
       "    }\n",
       "\n",
       "    .dataframe thead th {\n",
       "        text-align: right;\n",
       "    }\n",
       "</style>\n",
       "<table border=\"1\" class=\"dataframe\">\n",
       "  <thead>\n",
       "    <tr style=\"text-align: right;\">\n",
       "      <th></th>\n",
       "      <th>Serial No.</th>\n",
       "      <th>GRE Score</th>\n",
       "      <th>TOEFL Score</th>\n",
       "      <th>University Rating</th>\n",
       "      <th>SOP</th>\n",
       "      <th>LOR</th>\n",
       "      <th>CGPA</th>\n",
       "      <th>Research</th>\n",
       "      <th>Chance of Admit</th>\n",
       "    </tr>\n",
       "  </thead>\n",
       "  <tbody>\n",
       "    <tr>\n",
       "      <th>0</th>\n",
       "      <td>1</td>\n",
       "      <td>337</td>\n",
       "      <td>118</td>\n",
       "      <td>4</td>\n",
       "      <td>4.5</td>\n",
       "      <td>4.5</td>\n",
       "      <td>9.65</td>\n",
       "      <td>1</td>\n",
       "      <td>0.92</td>\n",
       "    </tr>\n",
       "    <tr>\n",
       "      <th>1</th>\n",
       "      <td>2</td>\n",
       "      <td>324</td>\n",
       "      <td>107</td>\n",
       "      <td>4</td>\n",
       "      <td>4.0</td>\n",
       "      <td>4.5</td>\n",
       "      <td>8.87</td>\n",
       "      <td>1</td>\n",
       "      <td>0.76</td>\n",
       "    </tr>\n",
       "    <tr>\n",
       "      <th>2</th>\n",
       "      <td>3</td>\n",
       "      <td>316</td>\n",
       "      <td>104</td>\n",
       "      <td>3</td>\n",
       "      <td>3.0</td>\n",
       "      <td>3.5</td>\n",
       "      <td>8.00</td>\n",
       "      <td>1</td>\n",
       "      <td>0.72</td>\n",
       "    </tr>\n",
       "    <tr>\n",
       "      <th>3</th>\n",
       "      <td>4</td>\n",
       "      <td>322</td>\n",
       "      <td>110</td>\n",
       "      <td>3</td>\n",
       "      <td>3.5</td>\n",
       "      <td>2.5</td>\n",
       "      <td>8.67</td>\n",
       "      <td>1</td>\n",
       "      <td>0.80</td>\n",
       "    </tr>\n",
       "    <tr>\n",
       "      <th>4</th>\n",
       "      <td>5</td>\n",
       "      <td>314</td>\n",
       "      <td>103</td>\n",
       "      <td>2</td>\n",
       "      <td>2.0</td>\n",
       "      <td>3.0</td>\n",
       "      <td>8.21</td>\n",
       "      <td>0</td>\n",
       "      <td>0.65</td>\n",
       "    </tr>\n",
       "  </tbody>\n",
       "</table>\n",
       "</div>"
      ],
      "text/plain": [
       "   Serial No.  GRE Score  TOEFL Score  University Rating  SOP  LOR   CGPA  \\\n",
       "0           1        337          118                  4  4.5   4.5  9.65   \n",
       "1           2        324          107                  4  4.0   4.5  8.87   \n",
       "2           3        316          104                  3  3.0   3.5  8.00   \n",
       "3           4        322          110                  3  3.5   2.5  8.67   \n",
       "4           5        314          103                  2  2.0   3.0  8.21   \n",
       "\n",
       "   Research  Chance of Admit   \n",
       "0         1              0.92  \n",
       "1         1              0.76  \n",
       "2         1              0.72  \n",
       "3         1              0.80  \n",
       "4         0              0.65  "
      ]
     },
     "execution_count": 1,
     "metadata": {},
     "output_type": "execute_result"
    }
   ],
   "source": [
    "import pandas as pd\n",
    "\n",
    "data = pd.read_csv(\"https://raw.githubusercontent.com/hannansatopay/DSML/master/Admission_Predict.csv\")\n",
    "data.head()"
   ]
  },
  {
   "cell_type": "code",
   "execution_count": 2,
   "metadata": {},
   "outputs": [
    {
     "name": "stdout",
     "output_type": "stream",
     "text": [
      "<class 'pandas.core.frame.DataFrame'>\n",
      "RangeIndex: 400 entries, 0 to 399\n",
      "Data columns (total 9 columns):\n",
      "Serial No.           400 non-null int64\n",
      "GRE Score            400 non-null int64\n",
      "TOEFL Score          400 non-null int64\n",
      "University Rating    400 non-null int64\n",
      "SOP                  400 non-null float64\n",
      "LOR                  400 non-null float64\n",
      "CGPA                 400 non-null float64\n",
      "Research             400 non-null int64\n",
      "Chance of Admit      400 non-null float64\n",
      "dtypes: float64(4), int64(5)\n",
      "memory usage: 28.2 KB\n"
     ]
    }
   ],
   "source": [
    "data.info()"
   ]
  },
  {
   "cell_type": "markdown",
   "metadata": {},
   "source": [
    "### Mean(Average) :\n",
    "The mean, is used to measure the center or middle of a numerical dataset. It is sum of all numbers divided by total numbers.\n",
    "\n",
    " $\\bar {x}={\\frac {1}{n}}\\left(\\sum _{i=1}^{n}{x_{i}}\\right)={\\frac {x_{1}+x_{2}+\\cdots +x_{n}}{n}}$\n",
    " \n",
    " The average of dataset is affected by outliers but the median is not. \n",
    " \n",
    " When calculating mean of *sample dataset* , x_i should be divided by *n* and not n-1."
   ]
  },
  {
   "cell_type": "markdown",
   "metadata": {},
   "source": [
    "#### A. Arithmatic mean \n",
    "1. It is average of group of numbers.\n",
    "2. Applicable for interval and ratio data.\n",
    "3. Affected by outliers."
   ]
  },
  {
   "cell_type": "code",
   "execution_count": 3,
   "metadata": {},
   "outputs": [],
   "source": [
    "# Find out mean\\ Average GRE score and TOEFL score \n",
    "gre=data[\"GRE Score\"]\n",
    "toefl=data[\"TOEFL Score\"]"
   ]
  },
  {
   "cell_type": "code",
   "execution_count": 4,
   "metadata": {},
   "outputs": [
    {
     "data": {
      "text/plain": [
       "316.8075"
      ]
     },
     "execution_count": 4,
     "metadata": {},
     "output_type": "execute_result"
    }
   ],
   "source": [
    "# Average GRE score\n",
    "GRE_average=gre.mean()\n",
    "GRE_average"
   ]
  },
  {
   "cell_type": "code",
   "execution_count": 5,
   "metadata": {},
   "outputs": [
    {
     "data": {
      "text/plain": [
       "107.41"
      ]
     },
     "execution_count": 5,
     "metadata": {},
     "output_type": "execute_result"
    }
   ],
   "source": [
    "# Average TOEFL score \n",
    "TOEFL_average=toefl.mean()\n",
    "TOEFL_average"
   ]
  },
  {
   "cell_type": "code",
   "execution_count": 6,
   "metadata": {},
   "outputs": [
    {
     "data": {
      "text/plain": [
       "True     205\n",
       "False    195\n",
       "Name: GRE Score, dtype: int64"
      ]
     },
     "execution_count": 6,
     "metadata": {},
     "output_type": "execute_result"
    }
   ],
   "source": [
    "# Find out students whose score is above gre average \n",
    "gre_above_avg = gre >= GRE_average\n",
    "gre_above_avg.value_counts()\n"
   ]
  },
  {
   "cell_type": "code",
   "execution_count": 7,
   "metadata": {},
   "outputs": [
    {
     "data": {
      "text/plain": [
       "False    209\n",
       "True     191\n",
       "Name: TOEFL Score, dtype: int64"
      ]
     },
     "execution_count": 7,
     "metadata": {},
     "output_type": "execute_result"
    }
   ],
   "source": [
    "# Find out students whose score is above toefl average \n",
    "toefl_above_avg= toefl >= TOEFL_average \n",
    "toefl_above_avg.value_counts()"
   ]
  },
  {
   "cell_type": "code",
   "execution_count": 8,
   "metadata": {},
   "outputs": [
    {
     "data": {
      "text/plain": [
       "Serial No.           200.500000\n",
       "GRE Score            316.807500\n",
       "TOEFL Score          107.410000\n",
       "University Rating      3.087500\n",
       "SOP                    3.400000\n",
       "LOR                    3.452500\n",
       "CGPA                   8.598925\n",
       "Research               0.547500\n",
       "Chance of Admit        0.724350\n",
       "dtype: float64"
      ]
     },
     "execution_count": 8,
     "metadata": {},
     "output_type": "execute_result"
    }
   ],
   "source": [
    "data.mean(axis=0)"
   ]
  },
  {
   "cell_type": "markdown",
   "metadata": {},
   "source": [
    "### Median :\n",
    "\n",
    "Median of the dataset is the value that lies exactly in the middle. \n",
    "In a numerical dataset, the median is the point at which there are an equal number of datapoints whose values lie above and below the median value. Thus median is truly median of dataset. \n",
    "e.g. median of interstate highway.On a highway, median is the middle of the road and an equal number of lanes lay on either side of the median. \n",
    "\n",
    "Steps for finding the median of the dataset :\n",
    "1. Order the number from smallest to largest \n",
    "2. If the dataset contains odd numbers, choose the one exactly in the middle \n",
    "   Otherwise ,\n",
    "   take 2 numbers that appear exactly in the middle and average them to find the median .\n",
    "   "
   ]
  },
  {
   "cell_type": "code",
   "execution_count": 9,
   "metadata": {},
   "outputs": [
    {
     "data": {
      "text/plain": [
       "317.0"
      ]
     },
     "execution_count": 9,
     "metadata": {},
     "output_type": "execute_result"
    }
   ],
   "source": [
    "# GRE median \n",
    "GRE_median = gre.median()\n",
    "GRE_median"
   ]
  },
  {
   "cell_type": "code",
   "execution_count": 10,
   "metadata": {},
   "outputs": [
    {
     "data": {
      "text/plain": [
       "107.0"
      ]
     },
     "execution_count": 10,
     "metadata": {},
     "output_type": "execute_result"
    }
   ],
   "source": [
    "# TOEFL median \n",
    "TOEFL_median = toefl.median()\n",
    "TOEFL_median"
   ]
  },
  {
   "cell_type": "code",
   "execution_count": 11,
   "metadata": {},
   "outputs": [
    {
     "data": {
      "text/plain": [
       "Serial No.           200.50\n",
       "GRE Score            317.00\n",
       "TOEFL Score          107.00\n",
       "University Rating      3.00\n",
       "SOP                    3.50\n",
       "LOR                    3.50\n",
       "CGPA                   8.61\n",
       "Research               1.00\n",
       "Chance of Admit        0.73\n",
       "dtype: float64"
      ]
     },
     "execution_count": 11,
     "metadata": {},
     "output_type": "execute_result"
    }
   ],
   "source": [
    "data.median()"
   ]
  },
  {
   "cell_type": "markdown",
   "metadata": {},
   "source": [
    "The average and median are two different representation of same data and can ofter give two very different stories about data. "
   ]
  },
  {
   "cell_type": "markdown",
   "metadata": {},
   "source": [
    "### Mode :\n",
    "Mode is the most frequent value that appear in the dataset "
   ]
  },
  {
   "cell_type": "markdown",
   "metadata": {},
   "source": [
    "### Standard deviation :"
   ]
  },
  {
   "cell_type": "markdown",
   "metadata": {},
   "source": [
    "It is a way to measure variability(or spread) among the numbers in a data set. As a term implies, it is a standard amount of deviation(or distance) from average. So it is average distance from mean. \n",
    "It describes where the most data should fall.\n",
    "\n",
    "\n",
    "The formula for sample standard deviation  :    \n",
    "                         \n",
    "${\\displaystyle s={\\sqrt {{\\frac {1}{n-1}}\\sum _{i=1}^{n}\\left(x_{i}-{\\bar {x}}\\right)^{2}}}.}$ \n",
    "\n",
    "\n",
    "Where ,                                                                      \n",
    "$s\t=$\tsample standard deviation                                                                                  \n",
    "$n\t=$\tthe size of the sample                                                                             \n",
    "$x_i\t=$\teach value from the population sample                                                                                \n",
    "$\\bar {x}\t=$\taverage of all values                           "
   ]
  },
  {
   "cell_type": "markdown",
   "metadata": {},
   "source": [
    "- The standard deviation of entire population is denoted by greek letter v. \n",
    "- The standard deviation of a sample population is denoted with the letter s. \n",
    "Because most of the time the population standard deviation isn't a value that's known. \n",
    "\n",
    "To calculate the sample standard deviation,s, do the following steps :\n",
    "1. Find the average of dataset\n",
    "2. Take each number and subtract average from it.\n",
    "3. Square each of the differences.\n",
    "4. Add up all the results of step 3. \n",
    "5. Divide the squares by total numbers in the dataset minus one(n-1).\n",
    "6. Take the square root of the number you get.\n",
    "\n",
    "Why n-1 ?\n",
    "when it comes to sample standard deviation, dividing by n-1 makes sure that the standard deviation isn't biased on average. \n",
    "\n",
    "\n",
    "A small standard deviation means that the values in the dataset are closed to the average of dataset. \n",
    "\n",
    "#### Uses of standard deviation :\n",
    "1. Indicator od finacial risk\n",
    "2. Comparing population :                            \n",
    "   a. household income in two cities                                   \n",
    "   b. employee absenteeism at two plants                                                    \n"
   ]
  },
  {
   "cell_type": "code",
   "execution_count": 12,
   "metadata": {},
   "outputs": [
    {
     "data": {
      "text/plain": [
       "11.473646113500477"
      ]
     },
     "execution_count": 12,
     "metadata": {},
     "output_type": "execute_result"
    }
   ],
   "source": [
    "gre.std()"
   ]
  },
  {
   "cell_type": "code",
   "execution_count": 13,
   "metadata": {},
   "outputs": [
    {
     "data": {
      "text/plain": [
       "count    400.000000\n",
       "mean     316.807500\n",
       "std       11.473646\n",
       "min      290.000000\n",
       "25%      308.000000\n",
       "50%      317.000000\n",
       "75%      325.000000\n",
       "max      340.000000\n",
       "Name: GRE Score, dtype: float64"
      ]
     },
     "execution_count": 13,
     "metadata": {},
     "output_type": "execute_result"
    }
   ],
   "source": [
    "gre.describe()"
   ]
  },
  {
   "cell_type": "markdown",
   "metadata": {},
   "source": [
    "### Percentile :\n",
    "The percentile reported for given score is the percentage of values in the dataset that fall below that certain score.\n",
    "Generally percentiles are used for comparison purposes to determine relative standing. \n",
    "It measures central tendency that divides a group of data into 100 parts.\n",
    "e.g. 90th percentile indicates that most 90% data lie below it and only 10% data lie above it.\n",
    "\n",
    "#### How to calculate percentile ?\n",
    "1. Organize datainto ascending array\n",
    "2. Calculate Pth percentile location :                              \n",
    "      i = P/100*n                           \n",
    "      where,                              \n",
    "      i = location index                            \n",
    "      n = total values in column "
   ]
  },
  {
   "cell_type": "code",
   "execution_count": null,
   "metadata": {},
   "outputs": [],
   "source": []
  },
  {
   "cell_type": "code",
   "execution_count": null,
   "metadata": {},
   "outputs": [],
   "source": []
  },
  {
   "cell_type": "code",
   "execution_count": 14,
   "metadata": {},
   "outputs": [
    {
     "data": {
      "text/plain": [
       "284    340\n",
       "143    340\n",
       "384    340\n",
       "202    340\n",
       "25     340\n",
       "Name: GRE Score, dtype: int64"
      ]
     },
     "execution_count": 14,
     "metadata": {},
     "output_type": "execute_result"
    }
   ],
   "source": [
    "# sort gre by descending order\n",
    "gre_descending = gre.sort_values(ascending=False)\n",
    "gre_descending.head()"
   ]
  },
  {
   "cell_type": "code",
   "execution_count": 15,
   "metadata": {},
   "outputs": [
    {
     "data": {
      "text/plain": [
       "79     294\n",
       "272    294\n",
       "168    293\n",
       "377    290\n",
       "117    290\n",
       "Name: GRE Score, dtype: int64"
      ]
     },
     "execution_count": 15,
     "metadata": {},
     "output_type": "execute_result"
    }
   ],
   "source": [
    "gre_descending.tail()"
   ]
  },
  {
   "cell_type": "code",
   "execution_count": 16,
   "metadata": {},
   "outputs": [
    {
     "data": {
      "text/plain": [
       "297    120\n",
       "81     120\n",
       "143    120\n",
       "202    120\n",
       "203    120\n",
       "Name: TOEFL Score, dtype: int64"
      ]
     },
     "execution_count": 16,
     "metadata": {},
     "output_type": "execute_result"
    }
   ],
   "source": [
    "# Sort toefl by descending order \n",
    "toefl_descending = toefl.sort_values(ascending=False) \n",
    "toefl_descending.head()"
   ]
  },
  {
   "cell_type": "code",
   "execution_count": 17,
   "metadata": {},
   "outputs": [
    {
     "data": {
      "text/plain": [
       "272    95\n",
       "347    94\n",
       "28     93\n",
       "79     93\n",
       "368    92\n",
       "Name: TOEFL Score, dtype: int64"
      ]
     },
     "execution_count": 17,
     "metadata": {},
     "output_type": "execute_result"
    }
   ],
   "source": [
    "toefl_descending.tail()"
   ]
  },
  {
   "cell_type": "markdown",
   "metadata": {},
   "source": [
    "So, as we can see, highest gre score is 340 and highest toefl score is 120 . Whereas lowest gre score is 290 and lowest toefl score is 92 ."
   ]
  },
  {
   "cell_type": "markdown",
   "metadata": {},
   "source": [
    "### When to use mean, median, mode ?\n",
    "When data is right\\left skewed then use median as a central tendency , if its bell shaped curve then anything can be used"
   ]
  },
  {
   "cell_type": "markdown",
   "metadata": {},
   "source": [
    "### Normal Distribution :\n",
    "#### Empirical Rule ..... if the histogram is bell shaped\n",
    " 1. Approx. 68% of all observation fall within one standard deviation of the mean.\n",
    " 2. Approx. 95% of all abservations fall within two standard deviation of the mean.\n",
    " 3. Approx. 99.7% of all observation fall within three standard deviation of the mean."
   ]
  },
  {
   "cell_type": "code",
   "execution_count": null,
   "metadata": {},
   "outputs": [],
   "source": []
  }
 ],
 "metadata": {
  "kernelspec": {
   "display_name": "Python 3",
   "language": "python",
   "name": "python3"
  },
  "language_info": {
   "codemirror_mode": {
    "name": "ipython",
    "version": 3
   },
   "file_extension": ".py",
   "mimetype": "text/x-python",
   "name": "python",
   "nbconvert_exporter": "python",
   "pygments_lexer": "ipython3",
   "version": "3.7.3"
  }
 },
 "nbformat": 4,
 "nbformat_minor": 2
}
